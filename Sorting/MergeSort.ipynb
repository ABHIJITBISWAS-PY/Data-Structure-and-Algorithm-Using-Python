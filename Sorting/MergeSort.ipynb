{
 "cells": [
  {
   "cell_type": "markdown",
   "metadata": {},
   "source": [
    "def merge_sort(alist, start, end):\n",
    "    '''Sorts the list from indexes start to end - 1 inclusive.'''\n",
    "    if end - start > 1:\n",
    "        mid = (start + end)//2\n",
    "        merge_sort(alist, start, mid)\n",
    "        merge_sort(alist, mid, end)\n",
    "        merge_list(alist, start, mid, end)\n",
    " \n",
    "def merge_list(alist, start, mid, end):\n",
    "    left = alist[start:mid]\n",
    "    right = alist[mid:end]\n",
    "    k = start\n",
    "    i = 0\n",
    "    j = 0\n",
    "    while (start + i < mid and mid + j < end):\n",
    "        if (left[i] <= right[j]):\n",
    "            alist[k] = left[i]\n",
    "            i = i + 1\n",
    "        else:\n",
    "            alist[k] = right[j]\n",
    "            j = j + 1\n",
    "        k = k + 1\n",
    "    if start + i < mid:\n",
    "        while k < end:\n",
    "            alist[k] = left[i]\n",
    "            i = i + 1\n",
    "            k = k + 1\n",
    "    else:\n",
    "        while k < end:\n",
    "            alist[k] = right[j]\n",
    "            j = j + 1\n",
    "            k = k + 1\n",
    " \n",
    " \n",
    "alist = input('Enter the list of numbers: ').split()\n",
    "alist = [int(x) for x in alist]\n",
    "merge_sort(alist, 0, len(alist))\n",
    "print('Sorted list: ', end='')\n",
    "print(alist)"
   ]
  }
 ],
 "metadata": {
  "kernelspec": {
   "display_name": "Python 3",
   "language": "python",
   "name": "python3"
  },
  "language_info": {
   "codemirror_mode": {
    "name": "ipython",
    "version": 3
   },
   "file_extension": ".py",
   "mimetype": "text/x-python",
   "name": "python",
   "nbconvert_exporter": "python",
   "pygments_lexer": "ipython3",
   "version": "3.7.4"
  }
 },
 "nbformat": 4,
 "nbformat_minor": 4
}
