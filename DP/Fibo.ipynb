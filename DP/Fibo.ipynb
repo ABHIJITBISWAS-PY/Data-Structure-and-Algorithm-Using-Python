{
 "cells": [
  {
   "cell_type": "code",
   "execution_count": null,
   "metadata": {},
   "outputs": [],
   "source": [
    "def fib(n, lookup): \n",
    "  \n",
    "    # Base case \n",
    "    if n == 0 or n == 1 : \n",
    "        lookup[n] = n \n",
    "  \n",
    "    # If the value is not calculated previously then calculate it \n",
    "    if lookup[n] is None: \n",
    "        lookup[n] = fib(n-1 , lookup)  + fib(n-2 , lookup)  \n",
    "  \n",
    "    # return the value corresponding to that value of n \n",
    "    return lookup[n] \n",
    "# end of function \n",
    "  \n",
    "# Driver program to test the above function \n",
    "def main(): \n",
    "    n = 34 \n",
    "    # Declaration of lookup table \n",
    "    # Handles till n = 100  \n",
    "    lookup = [None]*(101) \n",
    "    print \"Fibonacci Number is \", fib(n, lookup) \n",
    "  \n",
    "if __name__==\"__main__\": \n",
    "    main() "
   ]
  }
 ],
 "metadata": {
  "kernelspec": {
   "display_name": "Python 3",
   "language": "python",
   "name": "python3"
  },
  "language_info": {
   "codemirror_mode": {
    "name": "ipython",
    "version": 3
   },
   "file_extension": ".py",
   "mimetype": "text/x-python",
   "name": "python",
   "nbconvert_exporter": "python",
   "pygments_lexer": "ipython3",
   "version": "3.7.4"
  }
 },
 "nbformat": 4,
 "nbformat_minor": 4
}
