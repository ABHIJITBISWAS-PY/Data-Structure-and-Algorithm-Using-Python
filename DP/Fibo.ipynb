{
 "cells": [
  {
   "cell_type": "code",
   "execution_count": 2,
   "metadata": {},
   "outputs": [
    {
     "name": "stdout",
     "output_type": "stream",
     "text": [
      "Fibonacci Number is  5702887\n"
     ]
    }
   ],
   "source": [
    "def fib(n, lookup): \n",
    "  \n",
    "    if n == 0 or n == 1 : \n",
    "        lookup[n] = n \n",
    "    if lookup[n] is None: \n",
    "        lookup[n] = fib(n-1 , lookup)  + fib(n-2 , lookup)  \n",
    "  \n",
    "    return lookup[n] \n",
    "def main(): \n",
    "    n = 34 \n",
    "    lookup = [None]*(101) \n",
    "    print(\"Fibonacci Number is \", fib(n, lookup))\n",
    "  \n",
    "if __name__==\"__main__\": \n",
    "    main() "
   ]
  }
 ],
 "metadata": {
  "kernelspec": {
   "display_name": "Python 3",
   "language": "python",
   "name": "python3"
  },
  "language_info": {
   "codemirror_mode": {
    "name": "ipython",
    "version": 3
   },
   "file_extension": ".py",
   "mimetype": "text/x-python",
   "name": "python",
   "nbconvert_exporter": "python",
   "pygments_lexer": "ipython3",
   "version": "3.7.4"
  }
 },
 "nbformat": 4,
 "nbformat_minor": 4
}
